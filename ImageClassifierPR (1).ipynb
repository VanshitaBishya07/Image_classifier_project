{
 "cells": [
  {
   "cell_type": "code",
   "execution_count": 1,
   "id": "8b79a49b-55e7-4bb2-9566-977af20a5624",
   "metadata": {},
   "outputs": [],
   "source": [
    "import tensorflow as tf\n",
    "from tensorflow.keras import datasets, layers, models\n",
    "import matplotlib.pyplot as plt\n",
    "import numpy as np"
   ]
  },
  {
   "cell_type": "code",
   "execution_count": 2,
   "id": "e3029d25-146e-4993-9769-dd8e488312d0",
   "metadata": {},
   "outputs": [
    {
     "data": {
      "text/plain": [
       "(50000, 32, 32, 3)"
      ]
     },
     "execution_count": 2,
     "metadata": {},
     "output_type": "execute_result"
    }
   ],
   "source": [
    "(X_train,y_train) ,(X_test , y_test) = datasets.cifar10.load_data()\n",
    "X_train.shape #50,000 training sample he 32x32 ki or 3 is the rgb channel"
   ]
  },
  {
   "cell_type": "code",
   "execution_count": 3,
   "id": "5553e45d-015c-450c-b271-eb45e619af64",
   "metadata": {},
   "outputs": [
    {
     "data": {
      "text/plain": [
       "(10000, 32, 32, 3)"
      ]
     },
     "execution_count": 3,
     "metadata": {},
     "output_type": "execute_result"
    }
   ],
   "source": [
    "X_test.shape #test sample hmare pass 10,000 he"
   ]
  },
  {
   "cell_type": "code",
   "execution_count": 4,
   "id": "6ad284a9-4147-4e0b-a382-220f647a2a3f",
   "metadata": {},
   "outputs": [
    {
     "data": {
      "text/plain": [
       "array([[6],\n",
       "       [9],\n",
       "       [9],\n",
       "       [4],\n",
       "       [1]], dtype=uint8)"
      ]
     },
     "execution_count": 4,
     "metadata": {},
     "output_type": "execute_result"
    }
   ],
   "source": [
    "y_train[:5] # checking the first 5 samples"
   ]
  },
  {
   "cell_type": "code",
   "execution_count": 5,
   "id": "3f5f5136-cf47-461e-934c-e9492a89ddfb",
   "metadata": {},
   "outputs": [],
   "source": [
    "y_train = y_train.reshape(-1,) # we dont want to change the first dimension (ye 1d array me convert kardega)"
   ]
  },
  {
   "cell_type": "code",
   "execution_count": 6,
   "id": "d3ac6f3a-475f-4e67-ae97-a740d8a1ef0d",
   "metadata": {},
   "outputs": [],
   "source": [
    "y_train = y_train.reshape(-1,)"
   ]
  },
  {
   "cell_type": "code",
   "execution_count": 7,
   "id": "30a1fa7e-da22-4ef9-a01a-72218b74a5f1",
   "metadata": {},
   "outputs": [
    {
     "data": {
      "text/plain": [
       "array([6, 9, 9, 4, 1], dtype=uint8)"
      ]
     },
     "execution_count": 7,
     "metadata": {},
     "output_type": "execute_result"
    }
   ],
   "source": [
    "y_train[:5] # now we got a single array"
   ]
  },
  {
   "cell_type": "code",
   "execution_count": 8,
   "id": "0a14fadb-14cc-4f22-88e5-abd3dec7e318",
   "metadata": {},
   "outputs": [],
   "source": [
    "classes = [\"aeroplane\",\"automobile\",\"bird\",\"cat\",\"deer\",\"dog\",\"frog\",\"horse\",\"ship\",\"truck\"]"
   ]
  },
  {
   "cell_type": "code",
   "execution_count": 9,
   "id": "cf6bbe29-836b-4820-af7e-b80cb51b18eb",
   "metadata": {},
   "outputs": [
    {
     "data": {
      "text/plain": [
       "'truck'"
      ]
     },
     "execution_count": 9,
     "metadata": {},
     "output_type": "execute_result"
    }
   ],
   "source": [
    "classes[9]"
   ]
  },
  {
   "cell_type": "code",
   "execution_count": 10,
   "id": "15c26b97-a850-4bf3-ae32-27638e7a0f7a",
   "metadata": {},
   "outputs": [],
   "source": [
    "def plot_sample(X,y, index):\n",
    "    plt.figure(figsize = (15,2))  # ye size reduce karne ke liye kiya \n",
    "    plt.imshow(X[index])    #ye matplot lib me ek imshow function he jo image show karta he\n",
    "    plt.xlabel(classes[y[index]]) # jese niche frog print ho ker aya na vo print karta he ye"
   ]
  },
  {
   "cell_type": "code",
   "execution_count": 11,
   "id": "4db001a6-6f8e-4bfb-aa47-a8356edabe97",
   "metadata": {},
   "outputs": [
    {
     "data": {
      "image/png": "[encoded data removed]",
      "text/plain": [
       "<Figure size 1500x200 with 1 Axes>"
      ]
     },
     "metadata": {},
     "output_type": "display_data"
    }
   ],
   "source": [
    "plot_sample(X_train,y_train,0)   #hamne plot_sample function ko call kiya 0th index pe frog ki image thi isliye vo show hui"
   ]
  },
  {
   "cell_type": "code",
   "execution_count": 12,
   "id": "7de69a46-58ec-47cf-a886-752feeab5bec",
   "metadata": {},
   "outputs": [
    {
     "data": {
      "text/plain": [
       "array([[[ 59,  62,  63],\n",
       "        [ 43,  46,  45],\n",
       "        [ 50,  48,  43],\n",
       "        ...,\n",
       "        [158, 132, 108],\n",
       "        [152, 125, 102],\n",
       "        [148, 124, 103]],\n",
       "\n",
       "       [[ 16,  20,  20],\n",
       "        [  0,   0,   0],\n",
       "        [ 18,   8,   0],\n",
       "        ...,\n",
       "        [123,  88,  55],\n",
       "        [119,  83,  50],\n",
       "        [122,  87,  57]],\n",
       "\n",
       "       [[ 25,  24,  21],\n",
       "        [ 16,   7,   0],\n",
       "        [ 49,  27,   8],\n",
       "        ...,\n",
       "        [118,  84,  50],\n",
       "        [120,  84,  50],\n",
       "        [109,  73,  42]],\n",
       "\n",
       "       ...,\n",
       "\n",
       "       [[208, 170,  96],\n",
       "        [201, 153,  34],\n",
       "        [198, 161,  26],\n",
       "        ...,\n",
       "        [160, 133,  70],\n",
       "        [ 56,  31,   7],\n",
       "        [ 53,  34,  20]],\n",
       "\n",
       "       [[180, 139,  96],\n",
       "        [173, 123,  42],\n",
       "        [186, 144,  30],\n",
       "        ...,\n",
       "        [184, 148,  94],\n",
       "        [ 97,  62,  34],\n",
       "        [ 83,  53,  34]],\n",
       "\n",
       "       [[177, 144, 116],\n",
       "        [168, 129,  94],\n",
       "        [179, 142,  87],\n",
       "        ...,\n",
       "        [216, 184, 140],\n",
       "        [151, 118,  84],\n",
       "        [123,  92,  72]]], dtype=uint8)"
      ]
     },
     "execution_count": 12,
     "metadata": {},
     "output_type": "execute_result"
    }
   ],
   "source": [
    "#we want to normalize our data , so whenever we have an image we have to divide each pixel value by 255 bcz the pixel value ranges from 0 to 255 for\n",
    "#each channel r,g,b\n",
    "X_train[0]"
   ]
  },
  {
   "cell_type": "code",
   "execution_count": 13,
   "id": "fff462dc-ddde-4a6d-8d21-2181a95118a4",
   "metadata": {},
   "outputs": [
    {
     "data": {
      "text/plain": [
       "array([[[0.23137255, 0.24313725, 0.24705882],\n",
       "        [0.16862745, 0.18039216, 0.17647059],\n",
       "        [0.19607843, 0.18823529, 0.16862745],\n",
       "        ...,\n",
       "        [0.61960784, 0.51764706, 0.42352941],\n",
       "        [0.59607843, 0.49019608, 0.4       ],\n",
       "        [0.58039216, 0.48627451, 0.40392157]],\n",
       "\n",
       "       [[0.0627451 , 0.07843137, 0.07843137],\n",
       "        [0.        , 0.        , 0.        ],\n",
       "        [0.07058824, 0.03137255, 0.        ],\n",
       "        ...,\n",
       "        [0.48235294, 0.34509804, 0.21568627],\n",
       "        [0.46666667, 0.3254902 , 0.19607843],\n",
       "        [0.47843137, 0.34117647, 0.22352941]],\n",
       "\n",
       "       [[0.09803922, 0.09411765, 0.08235294],\n",
       "        [0.0627451 , 0.02745098, 0.        ],\n",
       "        [0.19215686, 0.10588235, 0.03137255],\n",
       "        ...,\n",
       "        [0.4627451 , 0.32941176, 0.19607843],\n",
       "        [0.47058824, 0.32941176, 0.19607843],\n",
       "        [0.42745098, 0.28627451, 0.16470588]],\n",
       "\n",
       "       ...,\n",
       "\n",
       "       [[0.81568627, 0.66666667, 0.37647059],\n",
       "        [0.78823529, 0.6       , 0.13333333],\n",
       "        [0.77647059, 0.63137255, 0.10196078],\n",
       "        ...,\n",
       "        [0.62745098, 0.52156863, 0.2745098 ],\n",
       "        [0.21960784, 0.12156863, 0.02745098],\n",
       "        [0.20784314, 0.13333333, 0.07843137]],\n",
       "\n",
       "       [[0.70588235, 0.54509804, 0.37647059],\n",
       "        [0.67843137, 0.48235294, 0.16470588],\n",
       "        [0.72941176, 0.56470588, 0.11764706],\n",
       "        ...,\n",
       "        [0.72156863, 0.58039216, 0.36862745],\n",
       "        [0.38039216, 0.24313725, 0.13333333],\n",
       "        [0.3254902 , 0.20784314, 0.13333333]],\n",
       "\n",
       "       [[0.69411765, 0.56470588, 0.45490196],\n",
       "        [0.65882353, 0.50588235, 0.36862745],\n",
       "        [0.70196078, 0.55686275, 0.34117647],\n",
       "        ...,\n",
       "        [0.84705882, 0.72156863, 0.54901961],\n",
       "        [0.59215686, 0.4627451 , 0.32941176],\n",
       "        [0.48235294, 0.36078431, 0.28235294]]])"
      ]
     },
     "execution_count": 13,
     "metadata": {},
     "output_type": "execute_result"
    }
   ],
   "source": [
    "X_train[0]/255 #numpy array ko agar 255 se divide kar rhe to vo saare elements ko divide kardega "
   ]
  },
  {
   "cell_type": "code",
   "execution_count": 14,
   "id": "628d28e7-8ad8-4cd8-aec6-89f9eefc75db",
   "metadata": {},
   "outputs": [],
   "source": [
    "X_train = X_train/255\n",
    "X_test = X_test/255                 \n",
    "# ye hamne normalize kardiya input images ko matlab 0 se 1 ki range me le aae\n",
    "# 0 ka matlab pure black, aur 255 ka matlab pure white.\n",
    "#Jab tum X_train / 255 ya X_test / 255 karte ho, toh tum har pixel value ko 255 se divide kar rahe ho.\n",
    "#Iska result yeh hota hai ki har pixel value 0 se 1 ke beech aa jati hai.\n",
    "#Normalization ka Fayda:\n",
    "# Better Performance: Neural networks aur machine learning models zyada efficiently kaam karte hain jab input values 0 aur 1 ke range mein hoti hain.\n",
    "# Faster Convergence: Gradient descent optimization techniques fast converge karti hain jab inputs normalize hote hain.\n",
    "\n"
   ]
  },
  {
   "cell_type": "code",
   "execution_count": 16,
   "id": "80e7b489-891c-4706-aed9-e1d620a136bf",
   "metadata": {},
   "outputs": [],
   "source": [
    "#CNN Convolutional Neural Network  \n",
    "# in Cnn we don't need to tell what filter it has to choose it will choose it by its own we just need to define filer size and how many filter we want\n",
    "cnn = models.Sequential([\n",
    "    #cnn\n",
    "    layers.Conv2D(filters = 32,kernel_size = (3,3) , activation = 'relu' , input_shape = (32,32,3)), # convolution layer ko add kiya\n",
    "    layers.MaxPooling2D((2,2)) ,\n",
    "\n",
    "    layers.Conv2D(filters = 32,kernel_size = (3,3) , activation = 'relu' , input_shape = (32,32,3)), # convolution layer ko add kiya\n",
    "    layers.MaxPooling2D((2,2)) ,\n",
    "    \n",
    "    #dense\n",
    "    layers.Flatten(),\n",
    "    layers.Dense(64, activation = 'relu'),\n",
    "    layers.Dense(10, activation = 'softmax') # softmax is good for normalization  ye output layer he or hmare pass 10 classes he isliye yha 10 aya h\n",
    "])\n",
    "#Softmax activation ke saath har neuron ek specific \n",
    "#class ko represent karta hai, aur jo neuron sabse zyada active hoga (highest value) woh predicted class batata hai."
   ]
  },
  {
   "cell_type": "code",
   "execution_count": 19,
   "id": "6f364d77-353d-41ac-9659-bc87dfae875e",
   "metadata": {},
   "outputs": [],
   "source": [
    "cnn.compile(optimizer ='adam',   #Adam optimizer ek advanced version hai gradient descent ka.\n",
    "            loss ='sparse_categorical_crossentropy', # ye actual label or predicted probability ke bich error calculate karta h\n",
    "            metrics = ['accuracy'])"
   ]
  },
  {
   "cell_type": "code",
   "execution_count": 20,
   "id": "ef935649-b1f8-4516-a188-b469f09bb19e",
   "metadata": {},
   "outputs": [
    {
     "name": "stdout",
     "output_type": "stream",
     "text": [
      "Epoch 1/10\n",
      "\u001b[1m1563/1563\u001b[0m \u001b[32m━━━━━━━━━━━━━━━━━━━━\u001b[0m\u001b[37m\u001b[0m \u001b[1m27s\u001b[0m 14ms/step - accuracy: 0.3726 - loss: 1.7170\n",
      "Epoch 2/10\n",
      "\u001b[1m1563/1563\u001b[0m \u001b[32m━━━━━━━━━━━━━━━━━━━━\u001b[0m\u001b[37m\u001b[0m \u001b[1m24s\u001b[0m 16ms/step - accuracy: 0.5819 - loss: 1.1978\n",
      "Epoch 3/10\n",
      "\u001b[1m1563/1563\u001b[0m \u001b[32m━━━━━━━━━━━━━━━━━━━━\u001b[0m\u001b[37m\u001b[0m \u001b[1m24s\u001b[0m 15ms/step - accuracy: 0.6391 - loss: 1.0364\n",
      "Epoch 4/10\n",
      "\u001b[1m1563/1563\u001b[0m \u001b[32m━━━━━━━━━━━━━━━━━━━━\u001b[0m\u001b[37m\u001b[0m \u001b[1m25s\u001b[0m 16ms/step - accuracy: 0.6733 - loss: 0.9444\n",
      "Epoch 5/10\n",
      "\u001b[1m1563/1563\u001b[0m \u001b[32m━━━━━━━━━━━━━━━━━━━━\u001b[0m\u001b[37m\u001b[0m \u001b[1m24s\u001b[0m 15ms/step - accuracy: 0.6943 - loss: 0.8870\n",
      "Epoch 6/10\n",
      "\u001b[1m1563/1563\u001b[0m \u001b[32m━━━━━━━━━━━━━━━━━━━━\u001b[0m\u001b[37m\u001b[0m \u001b[1m24s\u001b[0m 16ms/step - accuracy: 0.7119 - loss: 0.8277\n",
      "Epoch 7/10\n",
      "\u001b[1m1563/1563\u001b[0m \u001b[32m━━━━━━━━━━━━━━━━━━━━\u001b[0m\u001b[37m\u001b[0m \u001b[1m23s\u001b[0m 15ms/step - accuracy: 0.7270 - loss: 0.7895\n",
      "Epoch 8/10\n",
      "\u001b[1m1563/1563\u001b[0m \u001b[32m━━━━━━━━━━━━━━━━━━━━\u001b[0m\u001b[37m\u001b[0m \u001b[1m23s\u001b[0m 14ms/step - accuracy: 0.7372 - loss: 0.7518\n",
      "Epoch 9/10\n",
      "\u001b[1m1563/1563\u001b[0m \u001b[32m━━━━━━━━━━━━━━━━━━━━\u001b[0m\u001b[37m\u001b[0m \u001b[1m23s\u001b[0m 14ms/step - accuracy: 0.7449 - loss: 0.7274\n",
      "Epoch 10/10\n",
      "\u001b[1m1563/1563\u001b[0m \u001b[32m━━━━━━━━━━━━━━━━━━━━\u001b[0m\u001b[37m\u001b[0m \u001b[1m23s\u001b[0m 14ms/step - accuracy: 0.7584 - loss: 0.6878\n"
     ]
    },
    {
     "data": {
      "text/plain": [
       "<keras.src.callbacks.history.History at 0x2c6ab7fa5d0>"
      ]
     },
     "execution_count": 20,
     "metadata": {},
     "output_type": "execute_result"
    }
   ],
   "source": [
    "cnn.fit(X_train,y_train, epochs = 10)"
   ]
  },
  {
   "cell_type": "code",
   "execution_count": 21,
   "id": "61e34c3b-319c-4130-821b-5dfecf7a227c",
   "metadata": {},
   "outputs": [
    {
     "name": "stdout",
     "output_type": "stream",
     "text": [
      "\u001b[1m313/313\u001b[0m \u001b[32m━━━━━━━━━━━━━━━━━━━━\u001b[0m\u001b[37m\u001b[0m \u001b[1m3s\u001b[0m 8ms/step - accuracy: 0.6900 - loss: 0.9134\n"
     ]
    },
    {
     "data": {
      "text/plain": [
       "[0.9315603375434875, 0.6904000043869019]"
      ]
     },
     "execution_count": 21,
     "metadata": {},
     "output_type": "execute_result"
    }
   ],
   "source": [
    "cnn.evaluate(X_test,y_test)"
   ]
  },
  {
   "cell_type": "code",
   "execution_count": 22,
   "id": "c2fff058-4cfe-4be2-99cd-676187351391",
   "metadata": {},
   "outputs": [
    {
     "data": {
      "text/plain": [
       "array([3, 8, 8, 0, 6], dtype=uint8)"
      ]
     },
     "execution_count": 22,
     "metadata": {},
     "output_type": "execute_result"
    }
   ],
   "source": [
    "y_test = y_test.reshape(-1,)\n",
    "y_test[:5]"
   ]
  },
  {
   "cell_type": "code",
   "execution_count": 23,
   "id": "bee477ae-f599-42ac-9d61-d7eba2ab8809",
   "metadata": {},
   "outputs": [
    {
     "data": {
      "image/png": "[encoded data removed]",
      "text/plain": [
       "<Figure size 1500x200 with 1 Axes>"
      ]
     },
     "metadata": {},
     "output_type": "display_data"
    }
   ],
   "source": [
    "plot_sample(X_test,y_test,1)"
   ]
  },
  {
   "cell_type": "code",
   "execution_count": 25,
   "id": "731b489e-c5ea-460e-9cec-13982aa8df24",
   "metadata": {},
   "outputs": [
    {
     "name": "stdout",
     "output_type": "stream",
     "text": [
      "\u001b[1m313/313\u001b[0m \u001b[32m━━━━━━━━━━━━━━━━━━━━\u001b[0m\u001b[37m\u001b[0m \u001b[1m3s\u001b[0m 9ms/step\n"
     ]
    },
    {
     "data": {
      "text/plain": [
       "array([[5.6501362e-03, 1.0449681e-04, 4.8922850e-03, 9.6851546e-01,\n",
       "        3.3404108e-04, 1.4743407e-02, 4.9060215e-03, 3.3388867e-05,\n",
       "        3.4094548e-05, 7.8665203e-04],\n",
       "       [4.3040369e-02, 1.3605352e-02, 4.6151462e-07, 8.4426233e-07,\n",
       "        3.3492694e-07, 1.0013469e-08, 1.4014719e-06, 3.9768754e-08,\n",
       "        9.4246376e-01, 8.8737579e-04],\n",
       "       [2.1152809e-01, 2.2774917e-01, 2.9761402e-03, 3.9727846e-03,\n",
       "        4.0049516e-03, 1.2395666e-03, 6.2825071e-04, 1.4355774e-02,\n",
       "        1.6114131e-01, 3.7240398e-01],\n",
       "       [9.4267505e-01, 2.9375232e-03, 8.6924614e-04, 1.0332406e-03,\n",
       "        1.8871633e-02, 8.0895676e-05, 2.7282251e-04, 5.9834409e-05,\n",
       "        3.2315813e-02, 8.8384841e-04],\n",
       "       [4.0960717e-07, 3.0521625e-07, 3.2514189e-03, 7.4883578e-03,\n",
       "        5.3693819e-01, 1.6161802e-03, 4.5070031e-01, 4.4351500e-06,\n",
       "        1.4261036e-07, 2.6883092e-07]], dtype=float32)"
      ]
     },
     "execution_count": 25,
     "metadata": {},
     "output_type": "execute_result"
    }
   ],
   "source": [
    "y_pred = cnn.predict(X_test)\n",
    "y_pred[:5]"
   ]
  },
  {
   "cell_type": "code",
   "execution_count": 26,
   "id": "8b1fc099-36c7-4ba1-92e2-e981f89b76be",
   "metadata": {},
   "outputs": [
    {
     "data": {
      "text/plain": [
       "[3, 8, 9, 0, 4]"
      ]
     },
     "execution_count": 26,
     "metadata": {},
     "output_type": "execute_result"
    }
   ],
   "source": [
    "y_classes = [np.argmax(element) for element in y_pred] # it is like a for loop\n",
    "y_classes[:5]   # ye hamne 5 row me predicted class nikali he jese first row me 9.68 max he jo 0-based indexing se 3 he to matlab 3 class predict hui"
   ]
  },
  {
   "cell_type": "code",
   "execution_count": 27,
   "id": "1305afa1-0909-4863-8efe-b363014234e4",
   "metadata": {},
   "outputs": [
    {
     "data": {
      "text/plain": [
       "array([3, 8, 8, 0, 6], dtype=uint8)"
      ]
     },
     "execution_count": 27,
     "metadata": {},
     "output_type": "execute_result"
    }
   ],
   "source": [
    "y_test[:5]  # see it is giving almost similar values # ye actual label he or uper predicted label he"
   ]
  },
  {
   "cell_type": "code",
   "execution_count": 28,
   "id": "0d2a74e5-e383-49e4-ba02-c8c7ec7d06ad",
   "metadata": {},
   "outputs": [
    {
     "data": {
      "image/png": "[encoded data removed]",
      "text/plain": [
       "<Figure size 1500x200 with 1 Axes>"
      ]
     },
     "metadata": {},
     "output_type": "display_data"
    }
   ],
   "source": [
    "plot_sample(X_test,y_test,1) # hm check kar rhe ki actual me test data me index 1 pe kya he"
   ]
  },
  {
   "cell_type": "code",
   "execution_count": 29,
   "id": "ce9b9065-d2dd-4ac5-93d4-52458437cf4d",
   "metadata": {},
   "outputs": [
    {
     "data": {
      "text/plain": [
       "'ship'"
      ]
     },
     "execution_count": 29,
     "metadata": {},
     "output_type": "execute_result"
    }
   ],
   "source": [
    "classes[y_classes[1]] # predicted value"
   ]
  },
  {
   "cell_type": "code",
   "execution_count": 30,
   "id": "ca47278f-8ed7-4af9-ad0c-d02b51bd4381",
   "metadata": {},
   "outputs": [
    {
     "data": {
      "image/png": "[encoded data removed]",
      "text/plain": [
       "<Figure size 1500x200 with 1 Axes>"
      ]
     },
     "metadata": {},
     "output_type": "display_data"
    }
   ],
   "source": [
    "plot_sample(X_test,y_test,0)"
   ]
  },
  {
   "cell_type": "code",
   "execution_count": 31,
   "id": "13c1b546-c66b-4959-829f-e040a099c77d",
   "metadata": {},
   "outputs": [
    {
     "data": {
      "text/plain": [
       "'cat'"
      ]
     },
     "execution_count": 31,
     "metadata": {},
     "output_type": "execute_result"
    }
   ],
   "source": [
    "classes[y_classes[0]]"
   ]
  },
  {
   "cell_type": "code",
   "execution_count": 32,
   "id": "142a788e-be8b-40f2-ae3f-f8fc5867d04e",
   "metadata": {},
   "outputs": [
    {
     "data": {
      "image/png": "[encoded data removed]",
      "text/plain": [
       "<Figure size 1500x200 with 1 Axes>"
      ]
     },
     "metadata": {},
     "output_type": "display_data"
    }
   ],
   "source": [
    "plot_sample(X_test,y_test,5)"
   ]
  },
  {
   "cell_type": "code",
   "execution_count": 33,
   "id": "bb328e77-7411-4c87-bd1b-eae6b5dba881",
   "metadata": {},
   "outputs": [
    {
     "data": {
      "text/plain": [
       "'frog'"
      ]
     },
     "execution_count": 33,
     "metadata": {},
     "output_type": "execute_result"
    }
   ],
   "source": [
    "classes[y_classes[5]]"
   ]
  },
  {
   "cell_type": "code",
   "execution_count": 34,
   "id": "03327cbb-3802-456b-8734-cbb8e6d0fcd6",
   "metadata": {},
   "outputs": [
    {
     "data": {
      "image/png": "[encoded data removed]",
      "text/plain": [
       "<Figure size 1500x200 with 1 Axes>"
      ]
     },
     "metadata": {},
     "output_type": "display_data"
    }
   ],
   "source": [
    "plot_sample(X_test,y_test,8)"
   ]
  },
  {
   "cell_type": "code",
   "execution_count": 35,
   "id": "3d5ad8ab-4536-4c6f-b5af-62c7fe92fa26",
   "metadata": {},
   "outputs": [
    {
     "data": {
      "text/plain": [
       "'cat'"
      ]
     },
     "execution_count": 35,
     "metadata": {},
     "output_type": "execute_result"
    }
   ],
   "source": [
    "classes[y_classes[8]]"
   ]
  },
  {
   "cell_type": "code",
   "execution_count": 36,
   "id": "95608bce-35aa-452c-a7db-634317455e4a",
   "metadata": {},
   "outputs": [
    {
     "data": {
      "image/png": "[encoded data removed]",
      "text/plain": [
       "<Figure size 1500x200 with 1 Axes>"
      ]
     },
     "metadata": {},
     "output_type": "display_data"
    }
   ],
   "source": [
    "plot_sample(X_test,y_test,3)"
   ]
  },
  {
   "cell_type": "code",
   "execution_count": 37,
   "id": "644893e8-f218-4422-a95c-55bfce75e705",
   "metadata": {},
   "outputs": [
    {
     "data": {
      "text/plain": [
       "'aeroplane'"
      ]
     },
     "execution_count": 37,
     "metadata": {},
     "output_type": "execute_result"
    }
   ],
   "source": [
    "classes[y_classes[3]]"
   ]
  },
  {
   "cell_type": "code",
   "execution_count": 39,
   "id": "8dd1cdc4-f917-45e3-bb27-bc8c967c9885",
   "metadata": {},
   "outputs": [
    {
     "ename": "NameError",
     "evalue": "name 'classification_report' is not defined",
     "output_type": "error",
     "traceback": [
      "\u001b[1;31m---------------------------------------------------------------------------\u001b[0m",
      "\u001b[1;31mNameError\u001b[0m                                 Traceback (most recent call last)",
      "Cell \u001b[1;32mIn[39], line 1\u001b[0m\n\u001b[1;32m----> 1\u001b[0m \u001b[38;5;28mprint\u001b[39m(\u001b[38;5;124m\"\u001b[39m\u001b[38;5;124mclassification Report: \u001b[39m\u001b[38;5;130;01m\\n\u001b[39;00m\u001b[38;5;124m\"\u001b[39m,\u001b[43mclassification_report\u001b[49m(y_test,y_classes))\n",
      "\u001b[1;31mNameError\u001b[0m: name 'classification_report' is not defined"
     ]
    }
   ],
   "source": [
    "print(\"classification Report: \\n\",classification_report(y_test,y_classes))"
   ]
  },
  {
   "cell_type": "code",
   "execution_count": 41,
   "id": "3b167745-334c-4606-9a91-855721a030b8",
   "metadata": {},
   "outputs": [
    {
     "name": "stdout",
     "output_type": "stream",
     "text": [
      "\u001b[1m313/313\u001b[0m \u001b[32m━━━━━━━━━━━━━━━━━━━━\u001b[0m\u001b[37m\u001b[0m \u001b[1m3s\u001b[0m 9ms/step\n",
      "classification Report: \n",
      "               precision    recall  f1-score   support\n",
      "\n",
      "           0       0.61      0.83      0.70      1000\n",
      "           1       0.81      0.84      0.82      1000\n",
      "           2       0.57      0.61      0.59      1000\n",
      "           3       0.48      0.52      0.50      1000\n",
      "           4       0.65      0.65      0.65      1000\n",
      "           5       0.67      0.49      0.57      1000\n",
      "           6       0.76      0.81      0.78      1000\n",
      "           7       0.78      0.70      0.74      1000\n",
      "           8       0.89      0.70      0.78      1000\n",
      "           9       0.78      0.77      0.78      1000\n",
      "\n",
      "    accuracy                           0.69     10000\n",
      "   macro avg       0.70      0.69      0.69     10000\n",
      "weighted avg       0.70      0.69      0.69     10000\n",
      "\n"
     ]
    }
   ],
   "source": [
    "from sklearn.metrics import confusion_matrix , classification_report\n",
    "import numpy as np\n",
    "y_pred = cnn.predict(X_test)\n",
    "y_pred_classes = [np.argmax(element) for element in y_pred]\n",
    "print(\"classification Report: \\n\",classification_report(y_test,y_classes))"
   ]
  },
  {
   "cell_type": "code",
   "execution_count": null,
   "id": "d2ff6bb5-506a-430f-87ba-c24baff4cfdd",
   "metadata": {},
   "outputs": [],
   "source": []
  }
 ],
 "metadata": {
  "kernelspec": {
   "display_name": "Python 3 (ipykernel)",
   "language": "python",
   "name": "python3"
  },
  "language_info": {
   "codemirror_mode": {
    "name": "ipython",
    "version": 3
   },
   "file_extension": ".py",
   "mimetype": "text/x-python",
   "name": "python",
   "nbconvert_exporter": "python",
   "pygments_lexer": "ipython3",
   "version": "3.11.5"
  }
 },
 "nbformat": 4,
 "nbformat_minor": 5
}
